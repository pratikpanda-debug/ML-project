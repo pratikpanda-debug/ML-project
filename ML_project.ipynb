{
  "nbformat": 4,
  "nbformat_minor": 0,
  "metadata": {
    "colab": {
      "name": "ML project.ipynb",
      "provenance": [],
      "authorship_tag": "ABX9TyPje3e+aMGOa3VFZXZC4pkH",
      "include_colab_link": true
    },
    "kernelspec": {
      "name": "python3",
      "display_name": "Python 3"
    }
  },
  "cells": [
    {
      "cell_type": "markdown",
      "metadata": {
        "id": "view-in-github",
        "colab_type": "text"
      },
      "source": [
        "<a href=\"https://colab.research.google.com/github/pratikpanda-debug/ML-project/blob/master/ML_project.ipynb\" target=\"_parent\"><img src=\"https://colab.research.google.com/assets/colab-badge.svg\" alt=\"Open In Colab\"/></a>"
      ]
    },
    {
      "cell_type": "code",
      "metadata": {
        "id": "up884YnbcyBh",
        "colab_type": "code",
        "colab": {}
      },
      "source": [
        "import pandas as pd\n"
      ],
      "execution_count": 4,
      "outputs": []
    },
    {
      "cell_type": "code",
      "metadata": {
        "id": "TTIM93zGesJh",
        "colab_type": "code",
        "colab": {}
      },
      "source": [
        "import pandas as pd\n",
        "#importing pandas to use the library functions"
      ],
      "execution_count": null,
      "outputs": []
    },
    {
      "cell_type": "code",
      "metadata": {
        "id": "OiS3Qlt0kVnw",
        "colab_type": "code",
        "colab": {}
      },
      "source": [
        "df=pd.read_csv('data.csv', encoding=\"ISO-8859-1\")\n",
        "#df contains the file information which is in csv format"
      ],
      "execution_count": null,
      "outputs": []
    },
    {
      "cell_type": "code",
      "metadata": {
        "id": "AHrnereVk5P-",
        "colab_type": "code",
        "colab": {}
      },
      "source": [
        "df"
      ],
      "execution_count": null,
      "outputs": []
    },
    {
      "cell_type": "code",
      "metadata": {
        "id": "fUIL40fek6nu",
        "colab_type": "code",
        "colab": {}
      },
      "source": [
        "df.coloums"
      ],
      "execution_count": null,
      "outputs": []
    },
    {
      "cell_type": "code",
      "metadata": {
        "id": "HO5dURCFlAdh",
        "colab_type": "code",
        "colab": {}
      },
      "source": [
        "df.info()"
      ],
      "execution_count": null,
      "outputs": []
    },
    {
      "cell_type": "code",
      "metadata": {
        "id": "qV4IonYMlFX2",
        "colab_type": "code",
        "colab": {}
      },
      "source": [
        "df.shape\n",
        "#gives the number of rows and coloumns of a dataframe in tuple format"
      ],
      "execution_count": null,
      "outputs": []
    },
    {
      "cell_type": "code",
      "metadata": {
        "id": "RanUgrAvlWsA",
        "colab_type": "code",
        "colab": {}
      },
      "source": [
        "df['Market Catagory'].isnull().sum()\n",
        "#drops the rows with NaN values for the specified indices"
      ],
      "execution_count": null,
      "outputs": []
    },
    {
      "cell_type": "code",
      "metadata": {
        "id": "GWUQNx68lyU4",
        "colab_type": "code",
        "colab": {}
      },
      "source": [
        "df.dropna(subset=['MSRP'], how='any', inplace=True)\n",
        "#drops the rows with NaN values for the specified indices "
      ],
      "execution_count": null,
      "outputs": []
    },
    {
      "cell_type": "code",
      "metadata": {
        "id": "S_kwVFVboapO",
        "colab_type": "code",
        "colab": {}
      },
      "source": [
        "df.shape"
      ],
      "execution_count": null,
      "outputs": []
    },
    {
      "cell_type": "code",
      "metadata": {
        "id": "Zt3Znbm_ocur",
        "colab_type": "code",
        "colab": {}
      },
      "source": [
        "df.drop(df[df['MSRP']==0].index, inplace=true)\n",
        "#checking for any null values"
      ],
      "execution_count": null,
      "outputs": []
    },
    {
      "cell_type": "code",
      "metadata": {
        "id": "D4nXdK7go4xL",
        "colab_type": "code",
        "colab": {}
      },
      "source": [
        "df.drop(['Market Catagory'], axis=1, inplace=True)\n",
        "#dropping coloumns which are of less relevance"
      ],
      "execution_count": null,
      "outputs": []
    },
    {
      "cell_type": "code",
      "metadata": {
        "id": "BzjRzN8vpXRX",
        "colab_type": "code",
        "colab": {}
      },
      "source": [
        "df.shape"
      ],
      "execution_count": null,
      "outputs": []
    },
    {
      "cell_type": "code",
      "metadata": {
        "id": "QKUpYwi1pcYH",
        "colab_type": "code",
        "colab": {}
      },
      "source": [
        "df['Engine Fuel Type'].fillna(value='unknown',inplace=True)\n",
        "df['Engine HP'].fillna(value='unknown', inplace=True)\n",
        "df['Engine Cylinders'].fillna(value='unknown' ,inplace=True)\n",
        "df['Number of Doors'].fillna(value='unknown',inplace=True)\n",
        "#to fill the NaN values for the specified indices with \"unknown\"\n"
      ],
      "execution_count": null,
      "outputs": []
    },
    {
      "cell_type": "code",
      "metadata": {
        "id": "u_shWxSHuyK2",
        "colab_type": "code",
        "colab": {}
      },
      "source": [
        "df.info()"
      ],
      "execution_count": null,
      "outputs": []
    },
    {
      "cell_type": "code",
      "metadata": {
        "id": "2JtQU5JGu1Te",
        "colab_type": "code",
        "colab": {}
      },
      "source": [
        "df"
      ],
      "execution_count": null,
      "outputs": []
    },
    {
      "cell_type": "code",
      "metadata": {
        "id": "tiP_h8Ugu6Ae",
        "colab_type": "code",
        "colab": {}
      },
      "source": [
        "df.describe()"
      ],
      "execution_count": null,
      "outputs": []
    },
    {
      "cell_type": "code",
      "metadata": {
        "id": "n5AQkv8AvNSd",
        "colab_type": "code",
        "colab": {}
      },
      "source": [
        "df.drop(df[(df['highway MPG'] >=50)].index, inplace=True)\n",
        "df.drop(df[(df['city mpg'] >=50)].index, inplace=True)\n",
        "df.drop(df[(df['Popularity'] <=500)].index, inplace=True)\n",
        "#to remove outliers by dropping thr rows with values that are greater than 50 for 'highway MPG'and 'city mpg' values less than 500 for 'popularity'"
      ],
      "execution_count": null,
      "outputs": []
    },
    {
      "cell_type": "code",
      "metadata": {
        "id": "W7O8UfBJwzZ2",
        "colab_type": "code",
        "colab": {}
      },
      "source": [
        "df.duplicated().sum()\n",
        "#to get the number of duplicated rows"
      ],
      "execution_count": null,
      "outputs": []
    },
    {
      "cell_type": "code",
      "metadata": {
        "id": "NrtZ2YHaxHgn",
        "colab_type": "code",
        "colab": {}
      },
      "source": [
        "df.drop-duplicates(keep=False,inplace=True)\n",
        "#dropping the duplicate rows"
      ],
      "execution_count": null,
      "outputs": []
    },
    {
      "cell_type": "code",
      "metadata": {
        "id": "N8y7KFYixbBX",
        "colab_type": "code",
        "colab": {}
      },
      "source": [
        "df.shape"
      ],
      "execution_count": null,
      "outputs": []
    },
    {
      "cell_type": "code",
      "metadata": {
        "id": "8m5SA0DkxlrR",
        "colab_type": "code",
        "colab": {}
      },
      "source": [
        "df= df.rename(columns = {'Engine HP':'HP','Engine Cylinders':'Cylinders','Transmission Type':'Transmission','Driven_Wheels':'Drive Mode','highway MPG':'MPG-H','city mpg':'MPG-C','MSRP':'Price'})\n",
        "#renaming coloumns as per mentioned in the steps"
      ],
      "execution_count": null,
      "outputs": []
    },
    {
      "cell_type": "code",
      "metadata": {
        "id": "t-wJFkthzCRi",
        "colab_type": "code",
        "colab": {}
      },
      "source": [
        "df.info()"
      ],
      "execution_count": null,
      "outputs": []
    },
    {
      "cell_type": "code",
      "metadata": {
        "id": "1MSWrrJKzHhS",
        "colab_type": "code",
        "colab": {}
      },
      "source": [
        "df"
      ],
      "execution_count": null,
      "outputs": []
    },
    {
      "cell_type": "code",
      "metadata": {
        "id": "CQBOuzFGxZgg",
        "colab_type": "code",
        "colab": {}
      },
      "source": [
        ""
      ],
      "execution_count": null,
      "outputs": []
    },
    {
      "cell_type": "code",
      "metadata": {
        "id": "aHz5mQ4Dv1XT",
        "colab_type": "code",
        "colab": {}
      },
      "source": [
        ""
      ],
      "execution_count": null,
      "outputs": []
    }
  ]
}