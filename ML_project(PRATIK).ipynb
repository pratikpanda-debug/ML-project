{
  "nbformat": 4,
  "nbformat_minor": 0,
  "metadata": {
    "colab": {
      "name": "ML project(PRATIK).ipynb",
      "provenance": [],
      "private_outputs": true,
      "collapsed_sections": [],
      "authorship_tag": "ABX9TyPhFS2ZER2DN8IrlE/Qb28G",
      "include_colab_link": true
    },
    "kernelspec": {
      "name": "python3",
      "display_name": "Python 3"
    }
  },
  "cells": [
    {
      "cell_type": "markdown",
      "metadata": {
        "id": "view-in-github",
        "colab_type": "text"
      },
      "source": [
        "<a href=\"https://colab.research.google.com/github/pratikpanda-debug/ML-project/blob/master/ML_project(PRATIK).ipynb\" target=\"_parent\"><img src=\"https://colab.research.google.com/assets/colab-badge.svg\" alt=\"Open In Colab\"/></a>"
      ]
    },
    {
      "cell_type": "code",
      "metadata": {
        "id": "aj6U2qy2PF0S",
        "colab_type": "code",
        "colab": {}
      },
      "source": [
        "import pandas as pd\n",
        "#importing pandas to use the library functions"
      ],
      "execution_count": null,
      "outputs": []
    },
    {
      "cell_type": "code",
      "metadata": {
        "id": "U5fpfKWGP2C7",
        "colab_type": "code",
        "colab": {}
      },
      "source": [
        "df=pd.read_csv('data.csv')\n",
        "#df contains the file information which is in csv format"
      ],
      "execution_count": null,
      "outputs": []
    },
    {
      "cell_type": "code",
      "metadata": {
        "id": "nP19Ir0MQFcx",
        "colab_type": "code",
        "colab": {}
      },
      "source": [
        "df"
      ],
      "execution_count": null,
      "outputs": []
    },
    {
      "cell_type": "code",
      "metadata": {
        "id": "GgYqSX7jQL6d",
        "colab_type": "code",
        "colab": {}
      },
      "source": [
        "df.info()"
      ],
      "execution_count": null,
      "outputs": []
    },
    {
      "cell_type": "code",
      "metadata": {
        "id": "50evAugJQdqE",
        "colab_type": "code",
        "colab": {}
      },
      "source": [
        "df.columns"
      ],
      "execution_count": null,
      "outputs": []
    },
    {
      "cell_type": "code",
      "metadata": {
        "id": "A0La7cuWQkYW",
        "colab_type": "code",
        "colab": {}
      },
      "source": [
        "df.info()"
      ],
      "execution_count": null,
      "outputs": []
    },
    {
      "cell_type": "code",
      "metadata": {
        "id": "O1KaRE2UQvZ5",
        "colab_type": "code",
        "colab": {}
      },
      "source": [
        "df.shape\n",
        "#gives the number of rows and coloumns of a dataframe in tuple format"
      ],
      "execution_count": null,
      "outputs": []
    },
    {
      "cell_type": "code",
      "metadata": {
        "id": "jYnE_DQaQ6Ht",
        "colab_type": "code",
        "colab": {}
      },
      "source": [
        "df['Market Category'].isnull().sum()\n",
        "#drops the rows with NaN values for the specified indices"
      ],
      "execution_count": null,
      "outputs": []
    },
    {
      "cell_type": "code",
      "metadata": {
        "id": "IDfUoVO1RF8b",
        "colab_type": "code",
        "colab": {}
      },
      "source": [
        "df.dropna(subset=['MSRP'],how='any',inplace=True)\n",
        "#drops the rows with NaN values for the specified indices"
      ],
      "execution_count": null,
      "outputs": []
    },
    {
      "cell_type": "code",
      "metadata": {
        "id": "XZweNLA-RYiR",
        "colab_type": "code",
        "colab": {}
      },
      "source": [
        "df.shape"
      ],
      "execution_count": null,
      "outputs": []
    },
    {
      "cell_type": "code",
      "metadata": {
        "id": "ju147YDcRfJt",
        "colab_type": "code",
        "colab": {}
      },
      "source": [
        "df.drop(df[df['MSRP']==0].index,inplace=True)\n",
        "#drops the rows with NaN values for the specified indices"
      ],
      "execution_count": null,
      "outputs": []
    },
    {
      "cell_type": "code",
      "metadata": {
        "id": "68D5y0LkR2Xe",
        "colab_type": "code",
        "colab": {}
      },
      "source": [
        "df.drop(['Market Category'],axis=1,inplace=True)\n",
        "#dropping coloumns which are of less relevance"
      ],
      "execution_count": null,
      "outputs": []
    },
    {
      "cell_type": "code",
      "metadata": {
        "id": "JdF8wdU4SF6E",
        "colab_type": "code",
        "colab": {}
      },
      "source": [
        "df.shape"
      ],
      "execution_count": null,
      "outputs": []
    },
    {
      "cell_type": "code",
      "metadata": {
        "id": "LvANOUbASJMR",
        "colab_type": "code",
        "colab": {}
      },
      "source": [
        "\n",
        "df['Engine Fuel Type'].fillna(value='unknown',inplace=True)\n",
        "df['Engine HP'].fillna(value='unknown', inplace=True)\n",
        "df['Engine Cylinders'].fillna(value='unknown' ,inplace=True)\n",
        "df['Number of Doors'].fillna(value='unknown',inplace=True)\n",
        "#to fill the NaN values for the specified indices with \"unknown\""
      ],
      "execution_count": null,
      "outputs": []
    },
    {
      "cell_type": "code",
      "metadata": {
        "id": "xzh7kiSyShBv",
        "colab_type": "code",
        "colab": {}
      },
      "source": [
        "df.info()"
      ],
      "execution_count": null,
      "outputs": []
    },
    {
      "cell_type": "code",
      "metadata": {
        "id": "WiZ1mPUWStBZ",
        "colab_type": "code",
        "colab": {}
      },
      "source": [
        "df"
      ],
      "execution_count": null,
      "outputs": []
    },
    {
      "cell_type": "code",
      "metadata": {
        "id": "VYVAsG4ISyvD",
        "colab_type": "code",
        "colab": {}
      },
      "source": [
        "df.describe()"
      ],
      "execution_count": null,
      "outputs": []
    },
    {
      "cell_type": "code",
      "metadata": {
        "id": "5R8rDJGrTA79",
        "colab_type": "code",
        "colab": {}
      },
      "source": [
        "\n",
        "df.drop(df[(df['highway MPG'] >=50)].index, inplace=True)\n",
        "df.drop(df[(df['city mpg'] >=50)].index, inplace=True)\n",
        "df.drop(df[(df['Popularity'] <=500)].index, inplace=True)\n",
        "#to remove outliers by dropping thr rows with values that are greater than 50 for 'highway MPG'and 'city mpg' values less than 500 for 'popularity'"
      ],
      "execution_count": null,
      "outputs": []
    },
    {
      "cell_type": "code",
      "metadata": {
        "id": "ZNDpwgaHTDyI",
        "colab_type": "code",
        "colab": {}
      },
      "source": [
        "df.duplicated().sum()\n",
        "#to get the number of duplicated rows"
      ],
      "execution_count": null,
      "outputs": []
    },
    {
      "cell_type": "code",
      "metadata": {
        "id": "zzTkoFhvTNPG",
        "colab_type": "code",
        "colab": {}
      },
      "source": [
        "df.drop_duplicates(keep=False,inplace=True)\n",
        "#dropping the duplicate rows"
      ],
      "execution_count": null,
      "outputs": []
    },
    {
      "cell_type": "code",
      "metadata": {
        "id": "tyBp5y1sTlTS",
        "colab_type": "code",
        "colab": {}
      },
      "source": [
        "df.shape"
      ],
      "execution_count": null,
      "outputs": []
    },
    {
      "cell_type": "code",
      "metadata": {
        "id": "76N7um_vToci",
        "colab_type": "code",
        "colab": {}
      },
      "source": [
        "df= df.rename(columns = {'Engine HP':'HP','Engine Cylinders':'Cylinders','Transmission Type':'Transmission','Driven_Wheels':'Drive Mode','highway MPG':'MPG-H','city mpg':'MPG-C','MSRP':'Price'})\n",
        "#renaming coloumns as per mentioned in the steps"
      ],
      "execution_count": null,
      "outputs": []
    },
    {
      "cell_type": "code",
      "metadata": {
        "id": "gUnTZfTBTtMv",
        "colab_type": "code",
        "colab": {}
      },
      "source": [
        "df.info()"
      ],
      "execution_count": null,
      "outputs": []
    },
    {
      "cell_type": "code",
      "metadata": {
        "id": "5XVGx118Tw3z",
        "colab_type": "code",
        "colab": {}
      },
      "source": [
        "df"
      ],
      "execution_count": null,
      "outputs": []
    }
  ]
}